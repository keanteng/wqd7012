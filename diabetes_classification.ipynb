{
 "cells": [
  {
   "cell_type": "markdown",
   "id": "4e314254",
   "metadata": {},
   "source": [
    "# Diabetes Dataset Classification\n",
    "This notebook performs classification on the diabetes dataset using scikit-learn. It includes the following steps:\n",
    "- Load the diabetes dataset\n",
    "- Train a Decision Tree classifier\n",
    "- Train a Random Forest classifier and compare its performance with the Decision Tree\n",
    "- Apply Bagging to improve the Random Forest model\n",
    "- Perform a significance test on all three models."
   ]
  },
  {
   "cell_type": "code",
   "execution_count": 1,
   "id": "5cdf25b5",
   "metadata": {},
   "outputs": [],
   "source": [
    "# Import necessary libraries\n",
    "import numpy as np\n",
    "import pandas as pd\n",
    "from sklearn.datasets import load_diabetes\n",
    "from sklearn.model_selection import train_test_split\n",
    "from sklearn.tree import DecisionTreeClassifier\n",
    "from sklearn.ensemble import RandomForestClassifier, BaggingClassifier\n",
    "from sklearn.metrics import accuracy_score\n",
    "from scipy.stats import f_oneway"
   ]
  },
  {
   "cell_type": "code",
   "execution_count": 2,
   "id": "b5bf4631",
   "metadata": {},
   "outputs": [],
   "source": [
    "# Load the diabetes dataset\n",
    "data = load_diabetes()\n",
    "X = data.data\n",
    "y = data.target\n",
    "# Convert target to binary classification (e.g., above or below median)\n",
    "y = (y > np.median(y)).astype(int)\n",
    "X_train, X_test, y_train, y_test = train_test_split(X, y, test_size=0.2, random_state=42)"
   ]
  },
  {
   "cell_type": "code",
   "execution_count": 3,
   "id": "733dbe81",
   "metadata": {},
   "outputs": [
    {
     "name": "stdout",
     "output_type": "stream",
     "text": [
      "Decision Tree Accuracy: 0.67\n"
     ]
    }
   ],
   "source": [
    "# Train a Decision Tree classifier\n",
    "dt_model = DecisionTreeClassifier(random_state=42)\n",
    "dt_model.fit(X_train, y_train)\n",
    "dt_predictions = dt_model.predict(X_test)\n",
    "dt_accuracy = accuracy_score(y_test, dt_predictions)\n",
    "print(f'Decision Tree Accuracy: {dt_accuracy:.2f}')"
   ]
  },
  {
   "cell_type": "code",
   "execution_count": 4,
   "id": "a964c6e4",
   "metadata": {},
   "outputs": [
    {
     "name": "stdout",
     "output_type": "stream",
     "text": [
      "Random Forest Accuracy: 0.72\n"
     ]
    }
   ],
   "source": [
    "# Train a Random Forest classifier\n",
    "rf_model = RandomForestClassifier(random_state=42)\n",
    "rf_model.fit(X_train, y_train)\n",
    "rf_predictions = rf_model.predict(X_test)\n",
    "rf_accuracy = accuracy_score(y_test, rf_predictions)\n",
    "print(f'Random Forest Accuracy: {rf_accuracy:.2f}')"
   ]
  },
  {
   "cell_type": "code",
   "execution_count": 5,
   "id": "e8d59bad",
   "metadata": {},
   "outputs": [
    {
     "name": "stderr",
     "output_type": "stream",
     "text": [
      "c:\\Users\\Khor Kean Teng\\AppData\\Local\\Programs\\Python\\Python312\\Lib\\site-packages\\sklearn\\ensemble\\_base.py:156: FutureWarning: `base_estimator` was renamed to `estimator` in version 1.2 and will be removed in 1.4.\n",
      "  warnings.warn(\n"
     ]
    },
    {
     "name": "stdout",
     "output_type": "stream",
     "text": [
      "Bagging Random Forest Accuracy: 0.73\n"
     ]
    }
   ],
   "source": [
    "# Apply Bagging to improve the Random Forest model\n",
    "bagging_model = BaggingClassifier(base_estimator=RandomForestClassifier(random_state=42), random_state=42)\n",
    "bagging_model.fit(X_train, y_train)\n",
    "bagging_predictions = bagging_model.predict(X_test)\n",
    "bagging_accuracy = accuracy_score(y_test, bagging_predictions)\n",
    "print(f'Bagging Random Forest Accuracy: {bagging_accuracy:.2f}')"
   ]
  },
  {
   "cell_type": "code",
   "execution_count": 7,
   "id": "07057c15",
   "metadata": {},
   "outputs": [
    {
     "name": "stdout",
     "output_type": "stream",
     "text": [
      "Significance Test between Decision Tree and Random Forest:\n",
      "T-statistic: 0.0, P-value: 1.0\n",
      "Significance Test between Decision Tree and Bagging:\n",
      "T-statistic: -1.1491423807712053, P-value: 0.25361103536435814\n",
      "Significance Test between Random Forest and Decision Tree:\n",
      "T-statistic: 0.0, P-value: 1.0\n",
      "Significance Test between Random Forest and Bagging:\n",
      "T-statistic: -2.288688541085317, P-value: 0.024492231010549658\n",
      "Significance Test between Bagging and Decision Tree:\n",
      "T-statistic: 1.1491423807712053, P-value: 0.25361103536435814\n",
      "Significance Test between Bagging and Random Forest:\n",
      "T-statistic: 2.288688541085317, P-value: 0.024492231010549658\n"
     ]
    }
   ],
   "source": [
    "from scipy.stats import ttest_rel\n",
    "\n",
    "# Perform Significance Test on All Models\n",
    "# Collect predictions\n",
    "predictions = {\n",
    "    \"Decision Tree\": dt_predictions,\n",
    "    \"Random Forest\": rf_predictions,\n",
    "    \"Bagging\": bagging_predictions\n",
    "}\n",
    "\n",
    "# Perform paired t-test\n",
    "for model1, pred1 in predictions.items():\n",
    "    for model2, pred2 in predictions.items():\n",
    "        if model1 != model2:\n",
    "            t_stat, p_value = ttest_rel(pred1, pred2)\n",
    "            print(f\"Significance Test between {model1} and {model2}:\\nT-statistic: {t_stat}, P-value: {p_value}\")"
   ]
  }
 ],
 "metadata": {
  "kernelspec": {
   "display_name": "Python 3",
   "language": "python",
   "name": "python3"
  },
  "language_info": {
   "codemirror_mode": {
    "name": "ipython",
    "version": 3
   },
   "file_extension": ".py",
   "mimetype": "text/x-python",
   "name": "python",
   "nbconvert_exporter": "python",
   "pygments_lexer": "ipython3",
   "version": "3.12.7"
  }
 },
 "nbformat": 4,
 "nbformat_minor": 5
}
