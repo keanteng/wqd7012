{
    "cells": [
        {
            "cell_type": "markdown",
            "metadata": {
                "language": "markdown"
            },
            "source": [
                "### Task 1: Use different datasets on the examples given"
            ]
        },
        {
            "cell_type": "code",
            "execution_count": 4,
            "metadata": {
                "language": "python"
            },
            "outputs": [
                {
                    "name": "stdout",
                    "output_type": "stream",
                    "text": [
                        "Accuracy on Iris dataset: 0.9778\n"
                    ]
                }
            ],
            "source": [
                "# Load a different dataset (e.g., Iris dataset)\n",
                "from sklearn.datasets import load_iris\n",
                "from sklearn.model_selection import train_test_split\n",
                "from sklearn.naive_bayes import GaussianNB\n",
                "from sklearn.metrics import accuracy_score\n",
                "\n",
                "# Load the iris dataset\n",
                "iris = load_iris()\n",
                "X, y = iris.data, iris.target\n",
                "\n",
                "# Split the dataset into training and testing sets\n",
                "X_train, X_test, y_train, y_test = train_test_split(X, y, test_size=0.3, random_state=42)\n",
                "\n",
                "# Train and evaluate a GaussianNB model\n",
                "model = GaussianNB()\n",
                "model.fit(X_train, y_train)\n",
                "y_pred = model.predict(X_test)\n",
                "\n",
                "# Evaluate the model\n",
                "accuracy = accuracy_score(y_test, y_pred)\n",
                "print(f\"Accuracy on Iris dataset: {accuracy:.4f}\")"
            ]
        },
        {
            "cell_type": "markdown",
            "metadata": {
                "language": "markdown"
            },
            "source": [
                "### Task 2: Use different training and testing sizes during dataset splitting"
            ]
        },
        {
            "cell_type": "code",
            "execution_count": 5,
            "metadata": {
                "language": "python"
            },
            "outputs": [
                {
                    "name": "stdout",
                    "output_type": "stream",
                    "text": [
                        "\n",
                        "Test size: 0.1\n",
                        "Accuracy: 1.0000\n",
                        "\n",
                        "Test size: 0.2\n",
                        "Accuracy: 1.0000\n",
                        "\n",
                        "Test size: 0.3\n",
                        "Accuracy: 0.9778\n",
                        "\n",
                        "Test size: 0.4\n",
                        "Accuracy: 0.9667\n"
                    ]
                }
            ],
            "source": [
                "# Experiment with different training/testing sizes\n",
                "for test_size in [0.1, 0.2, 0.3, 0.4]:\n",
                "    print(f\"\\nTest size: {test_size}\")\n",
                "    X_train, X_test, y_train, y_test = train_test_split(X, y, test_size=test_size, random_state=42)\n",
                "    model = GaussianNB()\n",
                "    model.fit(X_train, y_train)\n",
                "    y_pred = model.predict(X_test)\n",
                "    accuracy = accuracy_score(y_test, y_pred)\n",
                "    print(f\"Accuracy: {accuracy:.4f}\")"
            ]
        },
        {
            "cell_type": "markdown",
            "metadata": {
                "language": "markdown"
            },
            "source": [
                "### Task 3: Change the random state during dataset splitting and observe the changes"
            ]
        },
        {
            "cell_type": "code",
            "execution_count": 6,
            "metadata": {
                "language": "python"
            },
            "outputs": [
                {
                    "name": "stdout",
                    "output_type": "stream",
                    "text": [
                        "\n",
                        "Random state: 0\n",
                        "Accuracy: 1.0000\n",
                        "\n",
                        "Random state: 42\n",
                        "Accuracy: 0.9778\n",
                        "\n",
                        "Random state: 100\n",
                        "Accuracy: 0.9556\n",
                        "\n",
                        "Random state: 123\n",
                        "Accuracy: 0.9556\n"
                    ]
                }
            ],
            "source": [
                "# Experiment with different random states\n",
                "for random_state in [0, 42, 100, 123]:\n",
                "    print(f\"\\nRandom state: {random_state}\")\n",
                "    X_train, X_test, y_train, y_test = train_test_split(X, y, test_size=0.3, random_state=random_state)\n",
                "    model = GaussianNB()\n",
                "    model.fit(X_train, y_train)\n",
                "    y_pred = model.predict(X_test)\n",
                "    accuracy = accuracy_score(y_test, y_pred)\n",
                "    print(f\"Accuracy: {accuracy:.4f}\")"
            ]
        },
        {
            "cell_type": "markdown",
            "metadata": {
                "language": "markdown"
            },
            "source": [
                "### Task 4: Write your own logistic regression implementation"
            ]
        },
        {
            "cell_type": "code",
            "execution_count": 7,
            "metadata": {
                "language": "python"
            },
            "outputs": [
                {
                    "name": "stdout",
                    "output_type": "stream",
                    "text": [
                        "Logistic Regression Accuracy: 0.9333\n"
                    ]
                }
            ],
            "source": [
                "# Implement logistic regression using sklearn\n",
                "from sklearn.linear_model import LogisticRegression\n",
                "\n",
                "# Train a logistic regression model\n",
                "model = LogisticRegression()\n",
                "model.fit(X_train, y_train)\n",
                "y_pred = model.predict(X_test)\n",
                "\n",
                "# Evaluate the model\n",
                "accuracy = accuracy_score(y_test, y_pred)\n",
                "print(f\"Logistic Regression Accuracy: {accuracy:.4f}\")"
            ]
        },
        {
            "cell_type": "markdown",
            "metadata": {
                "language": "markdown"
            },
            "source": [
                "### Task 5: Compare the performance of Naive Bayes, K-Nearest Neighbors, and Logistic Regression using one dataset of your choice"
            ]
        },
        {
            "cell_type": "code",
            "execution_count": 8,
            "metadata": {
                "language": "python"
            },
            "outputs": [
                {
                    "name": "stdout",
                    "output_type": "stream",
                    "text": [
                        "GaussianNB: Accuracy = 0.9556\n",
                        "KNN: Accuracy = 0.9778\n",
                        "LogisticRegression: Accuracy = 0.9333\n",
                        "\n",
                        "Best performing model: KNN with accuracy 0.9778\n"
                    ]
                }
            ],
            "source": [
                "# Compare Naive Bayes, KNN, and Logistic Regression\n",
                "from sklearn.neighbors import KNeighborsClassifier\n",
                "\n",
                "# Initialize models\n",
                "models = {\n",
                "    \"GaussianNB\": GaussianNB(),\n",
                "    \"KNN\": KNeighborsClassifier(n_neighbors=5),\n",
                "    \"LogisticRegression\": LogisticRegression()\n",
                "}\n",
                "\n",
                "# Train and evaluate each model\n",
                "results = {}\n",
                "for name, model in models.items():\n",
                "    model.fit(X_train, y_train)\n",
                "    y_pred = model.predict(X_test)\n",
                "    accuracy = accuracy_score(y_test, y_pred)\n",
                "    results[name] = accuracy\n",
                "\n",
                "# Display results\n",
                "for name, accuracy in results.items():\n",
                "    print(f\"{name}: Accuracy = {accuracy:.4f}\")\n",
                "\n",
                "# Select the best model\n",
                "best_model = max(results, key=results.get)\n",
                "print(f\"\\nBest performing model: {best_model} with accuracy {results[best_model]:.4f}\")"
            ]
        }
    ],
    "metadata": {
        "kernelspec": {
            "display_name": "Python 3",
            "language": "python",
            "name": "python3"
        },
        "language_info": {
            "codemirror_mode": {
                "name": "ipython",
                "version": 3
            },
            "file_extension": ".py",
            "mimetype": "text/x-python",
            "name": "python",
            "nbconvert_exporter": "python",
            "pygments_lexer": "ipython3",
            "version": "3.12.7"
        }
    },
    "nbformat": 4,
    "nbformat_minor": 5
}
