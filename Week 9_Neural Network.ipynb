{
 "cells": [
  {
   "cell_type": "markdown",
   "id": "ea5f42a6",
   "metadata": {},
   "source": [
    "# Neural Network Use Cases with scikit-learn\n",
    "\n",
    "This notebook demonstrates neural network use cases using the `MLPClassifier` from scikit-learn. It includes practical examples and explanations to help with learning."
   ]
  },
  {
   "cell_type": "markdown",
   "id": "c52621dd",
   "metadata": {},
   "source": [
    "## 1. Classification with MLPClassifier\n",
    "\n",
    "We will use a Multi-layer Perceptron (MLP) to classify the famous Iris dataset."
   ]
  },
  {
   "cell_type": "code",
   "execution_count": 1,
   "id": "cda61197",
   "metadata": {},
   "outputs": [
    {
     "name": "stdout",
     "output_type": "stream",
     "text": [
      "Accuracy: 0.9333333333333333\n",
      "              precision    recall  f1-score   support\n",
      "\n",
      "      setosa       1.00      1.00      1.00        10\n",
      "  versicolor       0.89      0.89      0.89         9\n",
      "   virginica       0.91      0.91      0.91        11\n",
      "\n",
      "    accuracy                           0.93        30\n",
      "   macro avg       0.93      0.93      0.93        30\n",
      "weighted avg       0.93      0.93      0.93        30\n",
      "\n"
     ]
    }
   ],
   "source": [
    "# Import required libraries\n",
    "from sklearn.datasets import load_iris\n",
    "from sklearn.model_selection import train_test_split\n",
    "from sklearn.neural_network import MLPClassifier\n",
    "from sklearn.metrics import classification_report, accuracy_score\n",
    "\n",
    "# Load the Iris dataset\n",
    "iris = load_iris()\n",
    "X = iris.data\n",
    "y = iris.target\n",
    "\n",
    "# Split into train and test sets\n",
    "X_train, X_test, y_train, y_test = train_test_split(X, y, test_size=0.2, random_state=42)\n",
    "\n",
    "# Create and train the MLPClassifier\n",
    "mlp = MLPClassifier(hidden_layer_sizes=(10, 10), max_iter=1000, random_state=42)\n",
    "mlp.fit(X_train, y_train)\n",
    "\n",
    "# Predict and evaluate\n",
    "y_pred = mlp.predict(X_test)\n",
    "print(\"Accuracy:\", accuracy_score(y_test, y_pred))\n",
    "print(classification_report(y_test, y_pred, target_names=iris.target_names))"
   ]
  },
  {
   "cell_type": "markdown",
   "id": "7a01371e",
   "metadata": {},
   "source": [
    "### Explanation\n",
    "\n",
    "- The Iris dataset is split into training and testing sets.\n",
    "- An MLPClassifier with two hidden layers is trained on the data.\n",
    "- The model's accuracy and classification report are displayed.\n",
    "- This demonstrates how neural networks can be used for multi-class classification tasks."
   ]
  },
  {
   "cell_type": "markdown",
   "id": "3b1f03e6",
   "metadata": {},
   "source": [
    "## 2. Regression with MLPRegressor\n",
    "\n",
    "Neural networks can also be used for regression tasks. Here, we use the Boston housing dataset to predict house prices."
   ]
  },
  {
   "cell_type": "code",
   "execution_count": 2,
   "id": "421321c2",
   "metadata": {},
   "outputs": [
    {
     "name": "stdout",
     "output_type": "stream",
     "text": [
      "Mean Squared Error: 0.8541077114057649\n"
     ]
    }
   ],
   "source": [
    "# Import required libraries for regression\n",
    "from sklearn.datasets import fetch_california_housing\n",
    "from sklearn.neural_network import MLPRegressor\n",
    "from sklearn.metrics import mean_squared_error\n",
    "\n",
    "# Load the California housing dataset\n",
    "data = fetch_california_housing()\n",
    "X = data.data\n",
    "y = data.target\n",
    "\n",
    "# Split into train and test sets\n",
    "X_train, X_test, y_train, y_test = train_test_split(X, y, test_size=0.2, random_state=42)\n",
    "\n",
    "# Create and train the MLPRegressor\n",
    "mlp_reg = MLPRegressor(hidden_layer_sizes=(20, 20), max_iter=1000, random_state=42)\n",
    "mlp_reg.fit(X_train, y_train)\n",
    "\n",
    "# Predict and evaluate\n",
    "y_pred = mlp_reg.predict(X_test)\n",
    "print(\"Mean Squared Error:\", mean_squared_error(y_test, y_pred))"
   ]
  },
  {
   "cell_type": "markdown",
   "id": "b5bace9a",
   "metadata": {},
   "source": [
    "### Explanation\n",
    "\n",
    "- The California housing dataset is used for regression.\n",
    "- An MLPRegressor is trained to predict house prices.\n",
    "- The mean squared error is reported to evaluate the regression performance.\n",
    "- This shows how neural networks can be applied to regression problems."
   ]
  },
  {
   "cell_type": "markdown",
   "id": "1fa69e84",
   "metadata": {},
   "source": [
    "## Summary\n",
    "\n",
    "Neural networks in scikit-learn can be easily applied to both classification and regression problems. The `MLPClassifier` and `MLPRegressor` provide simple interfaces for building and training neural networks on a variety of datasets."
   ]
  }
 ],
 "metadata": {
  "kernelspec": {
   "display_name": "Python 3",
   "language": "python",
   "name": "python3"
  },
  "language_info": {
   "codemirror_mode": {
    "name": "ipython",
    "version": 3
   },
   "file_extension": ".py",
   "mimetype": "text/x-python",
   "name": "python",
   "nbconvert_exporter": "python",
   "pygments_lexer": "ipython3",
   "version": "3.12.7"
  }
 },
 "nbformat": 4,
 "nbformat_minor": 5
}
