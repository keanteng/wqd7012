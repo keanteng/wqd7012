{
 "cells": [
  {
   "cell_type": "code",
   "execution_count": 1,
   "metadata": {
    "colab": {
     "base_uri": "https://localhost:8080/"
    },
    "executionInfo": {
     "elapsed": 22,
     "status": "ok",
     "timestamp": 1744623866911,
     "user": {
      "displayName": "HOO WAI LAM",
      "userId": "12532047009249584039"
     },
     "user_tz": -480
    },
    "id": "UrLtmnagpJng",
    "outputId": "fb56d8ea-9c0b-454b-80db-0688c45809ce"
   },
   "outputs": [
    {
     "name": "stdout",
     "output_type": "stream",
     "text": [
      "GaussianNB: Accuracy = 0.9466666666666667\n",
      "MultinomialNB: Accuracy = 0.6\n",
      "ComplementNB: Accuracy = 0.6\n",
      "BernoulliNB: Accuracy = 0.28\n",
      "\n",
      "Best performing classifier: GaussianNB with accuracy 0.9466666666666667\n"
     ]
    }
   ],
   "source": [
    "\n",
    "# Naive Bayes example:\n",
    "\n",
    "from sklearn.datasets import load_iris, load_breast_cancer\n",
    "from sklearn.model_selection import train_test_split\n",
    "from sklearn.naive_bayes import GaussianNB, MultinomialNB, ComplementNB, BernoulliNB\n",
    "from sklearn.metrics import accuracy_score\n",
    "\n",
    "# Load the iris dataset\n",
    "iris = load_iris()\n",
    "# iris = load_breast_cancer()\n",
    "X, y = iris.data, iris.target\n",
    "\n",
    "# Split data into training and testing sets\n",
    "X_train, X_test, y_train, y_test = train_test_split(X, y, test_size=0.5, random_state=0)\n",
    "\n",
    "# Initialize and train different Naive Bayes classifiers\n",
    "classifiers = {\n",
    "    \"GaussianNB\": GaussianNB(),\n",
    "    \"MultinomialNB\": MultinomialNB(),\n",
    "    \"ComplementNB\": ComplementNB(),\n",
    "    \"BernoulliNB\": BernoulliNB()\n",
    "}\n",
    "\n",
    "results = {}\n",
    "for name, clf in classifiers.items():\n",
    "    clf.fit(X_train, y_train)\n",
    "    y_pred = clf.predict(X_test)\n",
    "    accuracy = accuracy_score(y_test, y_pred)\n",
    "    results[name] = accuracy\n",
    "\n",
    "# Print the results\n",
    "for name, accuracy in results.items():\n",
    "    print(f\"{name}: Accuracy = {accuracy}\")\n",
    "\n",
    "# Compare the classifiers (you can add more sophisticated comparison methods)\n",
    "best_classifier = max(results, key=results.get)\n",
    "print(f\"\\nBest performing classifier: {best_classifier} with accuracy {results[best_classifier]}\")\n"
   ]
  },
  {
   "cell_type": "code",
   "execution_count": 2,
   "metadata": {
    "colab": {
     "base_uri": "https://localhost:8080/"
    },
    "executionInfo": {
     "elapsed": 329,
     "status": "ok",
     "timestamp": 1744624123694,
     "user": {
      "displayName": "HOO WAI LAM",
      "userId": "12532047009249584039"
     },
     "user_tz": -480
    },
    "id": "eYZHa_5dsPYC",
    "outputId": "71ce69b9-ac56-4b5c-8d44-df8533e39b46"
   },
   "outputs": [
    {
     "name": "stdout",
     "output_type": "stream",
     "text": [
      "\n",
      "Training size: 0.1\n",
      "K = 3, Accuracy = 0.9629629629629629\n",
      "K = 5, Accuracy = 0.9037037037037037\n",
      "K = 7, Accuracy = 0.8222222222222222\n",
      "K = 9, Accuracy = 0.6592592592592592\n",
      "\n",
      "Training size: 0.2\n",
      "K = 3, Accuracy = 0.9083333333333333\n",
      "K = 5, Accuracy = 0.9333333333333333\n",
      "K = 7, Accuracy = 0.9166666666666666\n",
      "K = 9, Accuracy = 0.9083333333333333\n",
      "\n",
      "Training size: 0.30000000000000004\n",
      "K = 3, Accuracy = 0.9428571428571428\n",
      "K = 5, Accuracy = 0.9142857142857143\n",
      "K = 7, Accuracy = 0.9428571428571428\n",
      "K = 9, Accuracy = 0.9142857142857143\n",
      "\n",
      "Training size: 0.4\n",
      "K = 3, Accuracy = 0.9444444444444444\n",
      "K = 5, Accuracy = 0.9222222222222223\n",
      "K = 7, Accuracy = 0.9444444444444444\n",
      "K = 9, Accuracy = 0.9555555555555556\n",
      "\n",
      "Training size: 0.5\n",
      "K = 3, Accuracy = 0.9333333333333333\n",
      "K = 5, Accuracy = 0.96\n",
      "K = 7, Accuracy = 0.96\n",
      "K = 9, Accuracy = 0.9733333333333334\n",
      "\n",
      "Training size: 0.6\n",
      "K = 3, Accuracy = 0.9333333333333333\n",
      "K = 5, Accuracy = 0.95\n",
      "K = 7, Accuracy = 0.9666666666666667\n",
      "K = 9, Accuracy = 0.9666666666666667\n",
      "\n",
      "Training size: 0.7000000000000001\n",
      "K = 3, Accuracy = 0.9777777777777777\n",
      "K = 5, Accuracy = 0.9777777777777777\n",
      "K = 7, Accuracy = 0.9777777777777777\n",
      "K = 9, Accuracy = 0.9777777777777777\n",
      "\n",
      "Training size: 0.8\n",
      "K = 3, Accuracy = 0.9666666666666667\n",
      "K = 5, Accuracy = 0.9666666666666667\n",
      "K = 7, Accuracy = 1.0\n",
      "K = 9, Accuracy = 1.0\n",
      "\n",
      "Training size: 0.9\n",
      "K = 3, Accuracy = 1.0\n",
      "K = 5, Accuracy = 1.0\n",
      "K = 7, Accuracy = 1.0\n",
      "K = 9, Accuracy = 1.0\n"
     ]
    }
   ],
   "source": [
    "# KNN example:\n",
    "\n",
    "from sklearn.datasets import load_iris\n",
    "from sklearn.model_selection import train_test_split\n",
    "from sklearn.neighbors import KNeighborsClassifier\n",
    "from sklearn.metrics import accuracy_score\n",
    "import numpy as np\n",
    "\n",
    "# Load the iris dataset\n",
    "iris = load_iris()\n",
    "X, y = iris.data, iris.target\n",
    "\n",
    "# Define the training sample sizes to test\n",
    "train_sizes = np.linspace(0.1, 0.9, 9) # Example: 9 training set sizes from 10% to 90%\n",
    "\n",
    "\n",
    "# Iterate through different training sizes\n",
    "for train_size in train_sizes:\n",
    "    print(f\"\\nTraining size: {train_size}\")\n",
    "\n",
    "    # Split data into training and testing sets\n",
    "    X_train, X_test, y_train, y_test = train_test_split(X, y, test_size=1 - train_size, random_state=0)\n",
    "\n",
    "    # Iterate through different K values\n",
    "    for k in [3, 5, 7, 9]:\n",
    "        # Initialize and train a KNN classifier\n",
    "        knn = KNeighborsClassifier(n_neighbors=k)\n",
    "        knn.fit(X_train, y_train)\n",
    "\n",
    "        # Make predictions and evaluate accuracy\n",
    "        y_pred = knn.predict(X_test)\n",
    "        accuracy = accuracy_score(y_test, y_pred)\n",
    "\n",
    "        print(f\"K = {k}, Accuracy = {accuracy}\")\n"
   ]
  },
  {
   "cell_type": "code",
   "execution_count": 3,
   "metadata": {
    "colab": {
     "base_uri": "https://localhost:8080/",
     "height": 1000
    },
    "executionInfo": {
     "elapsed": 172,
     "status": "ok",
     "timestamp": 1744624436669,
     "user": {
      "displayName": "HOO WAI LAM",
      "userId": "12532047009249584039"
     },
     "user_tz": -480
    },
    "id": "5M1-XgVVtQ-B",
    "outputId": "3ed86b3a-e3b9-4bc8-8055-e7e7ab0cb9ad"
   },
   "outputs": [
    {
     "name": "stdout",
     "output_type": "stream",
     "text": [
      "[[ 0.03807591  0.05068012  0.06169621 ... -0.00259226  0.01990749\n",
      "  -0.01764613]\n",
      " [-0.00188202 -0.04464164 -0.05147406 ... -0.03949338 -0.06833155\n",
      "  -0.09220405]\n",
      " [ 0.08529891  0.05068012  0.04445121 ... -0.00259226  0.00286131\n",
      "  -0.02593034]\n",
      " ...\n",
      " [ 0.04170844  0.05068012 -0.01590626 ... -0.01107952 -0.04688253\n",
      "   0.01549073]\n",
      " [-0.04547248 -0.04464164  0.03906215 ...  0.02655962  0.04452873\n",
      "  -0.02593034]\n",
      " [-0.04547248 -0.04464164 -0.0730303  ... -0.03949338 -0.00422151\n",
      "   0.00306441]]\n",
      "[151.  75. 141. 206. 135.  97. 138.  63. 110. 310. 101.  69. 179. 185.\n",
      " 118. 171. 166. 144.  97. 168.  68.  49.  68. 245. 184. 202. 137.  85.\n",
      " 131. 283. 129.  59. 341.  87.  65. 102. 265. 276. 252.  90. 100.  55.\n",
      "  61.  92. 259.  53. 190. 142.  75. 142. 155. 225.  59. 104. 182. 128.\n",
      "  52.  37. 170. 170.  61. 144.  52. 128.  71. 163. 150.  97. 160. 178.\n",
      "  48. 270. 202. 111.  85.  42. 170. 200. 252. 113. 143.  51.  52. 210.\n",
      "  65. 141.  55. 134.  42. 111.  98. 164.  48.  96.  90. 162. 150. 279.\n",
      "  92.  83. 128. 102. 302. 198.  95.  53. 134. 144. 232.  81. 104.  59.\n",
      " 246. 297. 258. 229. 275. 281. 179. 200. 200. 173. 180.  84. 121. 161.\n",
      "  99. 109. 115. 268. 274. 158. 107.  83. 103. 272.  85. 280. 336. 281.\n",
      " 118. 317. 235.  60. 174. 259. 178. 128.  96. 126. 288.  88. 292.  71.\n",
      " 197. 186.  25.  84.  96. 195.  53. 217. 172. 131. 214.  59.  70. 220.\n",
      " 268. 152.  47.  74. 295. 101. 151. 127. 237. 225.  81. 151. 107.  64.\n",
      " 138. 185. 265. 101. 137. 143. 141.  79. 292. 178.  91. 116.  86. 122.\n",
      "  72. 129. 142.  90. 158.  39. 196. 222. 277.  99. 196. 202. 155.  77.\n",
      " 191.  70.  73.  49.  65. 263. 248. 296. 214. 185.  78.  93. 252. 150.\n",
      "  77. 208.  77. 108. 160.  53. 220. 154. 259.  90. 246. 124.  67.  72.\n",
      " 257. 262. 275. 177.  71.  47. 187. 125.  78.  51. 258. 215. 303. 243.\n",
      "  91. 150. 310. 153. 346.  63.  89.  50.  39. 103. 308. 116. 145.  74.\n",
      "  45. 115. 264.  87. 202. 127. 182. 241.  66.  94. 283.  64. 102. 200.\n",
      " 265.  94. 230. 181. 156. 233.  60. 219.  80.  68. 332. 248.  84. 200.\n",
      "  55.  85.  89.  31. 129.  83. 275.  65. 198. 236. 253. 124.  44. 172.\n",
      " 114. 142. 109. 180. 144. 163. 147.  97. 220. 190. 109. 191. 122. 230.\n",
      " 242. 248. 249. 192. 131. 237.  78. 135. 244. 199. 270. 164.  72.  96.\n",
      " 306.  91. 214.  95. 216. 263. 178. 113. 200. 139. 139.  88. 148.  88.\n",
      " 243.  71.  77. 109. 272.  60.  54. 221.  90. 311. 281. 182. 321.  58.\n",
      " 262. 206. 233. 242. 123. 167.  63. 197.  71. 168. 140. 217. 121. 235.\n",
      " 245.  40.  52. 104. 132.  88.  69. 219.  72. 201. 110.  51. 277.  63.\n",
      " 118.  69. 273. 258.  43. 198. 242. 232. 175.  93. 168. 275. 293. 281.\n",
      "  72. 140. 189. 181. 209. 136. 261. 113. 131. 174. 257.  55.  84.  42.\n",
      " 146. 212. 233.  91. 111. 152. 120.  67. 310.  94. 183.  66. 173.  72.\n",
      "  49.  64.  48. 178. 104. 132. 220.  57.]\n",
      "Coefficients: \n",
      " [998.57768914]\n",
      "Mean squared error: 4061.83\n",
      "Coefficient of determination: 0.23\n"
     ]
    },
    {
     "data": {
      "image/png": "[encoded data removed]",
      "text/plain": [
       "<Figure size 640x480 with 1 Axes>"
      ]
     },
     "metadata": {},
     "output_type": "display_data"
    }
   ],
   "source": [
    "# Linear regression example:\n",
    "\n",
    "import matplotlib.pyplot as plt\n",
    "import numpy as np\n",
    "from sklearn import datasets, linear_model\n",
    "from sklearn.metrics import mean_squared_error, r2_score\n",
    "from sklearn.model_selection import train_test_split\n",
    "\n",
    "# Load the diabetes dataset\n",
    "diabetes_X, diabetes_y = datasets.load_diabetes(return_X_y=True)\n",
    "print(diabetes_X)\n",
    "print(diabetes_y)\n",
    "\n",
    "# Use only one feature\n",
    "diabetes_X = diabetes_X[:, np.newaxis, 2]\n",
    "\n",
    "# Split the data into training/testing sets\n",
    "diabetes_X_train, diabetes_X_test, diabetes_y_train, diabetes_y_test = train_test_split(\n",
    "    diabetes_X, diabetes_y, test_size=0.2, random_state=42)\n",
    "\n",
    "# Create linear regression object\n",
    "regr = linear_model.LinearRegression()\n",
    "\n",
    "# Train the model using the training sets\n",
    "regr.fit(diabetes_X_train, diabetes_y_train)\n",
    "\n",
    "# Make predictions using the testing set\n",
    "diabetes_y_pred = regr.predict(diabetes_X_test)\n",
    "\n",
    "# The coefficients\n",
    "print(\"Coefficients: \\n\", regr.coef_)\n",
    "# The mean squared error\n",
    "print(\"Mean squared error: %.2f\" % mean_squared_error(diabetes_y_test, diabetes_y_pred))\n",
    "# The coefficient of determination: 1 is perfect prediction\n",
    "print(\"Coefficient of determination: %.2f\" % r2_score(diabetes_y_test, diabetes_y_pred))\n",
    "\n",
    "# Plot outputs\n",
    "plt.scatter(diabetes_X_test, diabetes_y_test, color=\"black\")\n",
    "plt.plot(diabetes_X_test, diabetes_y_pred, color=\"blue\", linewidth=3)\n",
    "\n",
    "plt.xticks(())\n",
    "plt.yticks(())\n",
    "\n",
    "plt.show()\n"
   ]
  },
  {
   "cell_type": "markdown",
   "metadata": {
    "id": "G1124_rducT6"
   },
   "source": [
    "Try yourself:\n",
    "\n",
    "\n",
    "1.   Use different datasets on the examples given\n",
    "2.   Use different training and testing size during dataset splitting\n",
    "3.   Change the random state during dataset splitting and observe the changes\n",
    "4.   Write your own logistic regression implementation\n",
    "5.   Compare the performance of Naive Bayes, K-nearest Neighbour and Logistic regression using one dataset of your choice.\n",
    "\n",
    "\n",
    "\n"
   ]
  }
 ],
 "metadata": {
  "colab": {
   "authorship_tag": "ABX9TyO6YnWZyCs2UCiXVG2kvL+6",
   "provenance": []
  },
  "kernelspec": {
   "display_name": "Python 3",
   "name": "python3"
  },
  "language_info": {
   "codemirror_mode": {
    "name": "ipython",
    "version": 3
   },
   "file_extension": ".py",
   "mimetype": "text/x-python",
   "name": "python",
   "nbconvert_exporter": "python",
   "pygments_lexer": "ipython3",
   "version": "3.12.7"
  }
 },
 "nbformat": 4,
 "nbformat_minor": 0
}
